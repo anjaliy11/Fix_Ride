{
 "cells": [
  {
   "cell_type": "code",
   "execution_count": null,
   "id": "69b3343d-e471-4c71-b3a0-f67a38632c76",
   "metadata": {},
   "outputs": [
    {
     "ename": "ModuleNotFoundError",
     "evalue": "No module named 'haversine'",
     "output_type": "error",
     "traceback": [
      "\u001b[1;31m---------------------------------------------------------------------------\u001b[0m",
      "\u001b[1;31mModuleNotFoundError\u001b[0m                       Traceback (most recent call last)",
      "Cell \u001b[1;32mIn[24], line 9\u001b[0m\n\u001b[0;32m      7\u001b[0m \u001b[38;5;28;01mfrom\u001b[39;00m \u001b[38;5;21;01msklearn\u001b[39;00m\u001b[38;5;21;01m.\u001b[39;00m\u001b[38;5;21;01mpreprocessing\u001b[39;00m \u001b[38;5;28;01mimport\u001b[39;00m StandardScaler, LabelEncoder\n\u001b[0;32m      8\u001b[0m \u001b[38;5;28;01mfrom\u001b[39;00m \u001b[38;5;21;01msklearn\u001b[39;00m\u001b[38;5;21;01m.\u001b[39;00m\u001b[38;5;21;01mmodel_selection\u001b[39;00m \u001b[38;5;28;01mimport\u001b[39;00m train_test_split\n\u001b[1;32m----> 9\u001b[0m \u001b[38;5;28;01mfrom\u001b[39;00m \u001b[38;5;21;01mhaversine\u001b[39;00m \u001b[38;5;28;01mimport\u001b[39;00m haversine\n\u001b[0;32m     11\u001b[0m \u001b[38;5;66;03m# Load your preprocessed data (ensure it includes user_id, mechanic_id, location, cost, rating, availability, etc.)\u001b[39;00m\n\u001b[0;32m     12\u001b[0m users_df \u001b[38;5;241m=\u001b[39m pd\u001b[38;5;241m.\u001b[39mread_csv(\u001b[38;5;124m\"\u001b[39m\u001b[38;5;124mdata/preprocessed_users.csv\u001b[39m\u001b[38;5;124m\"\u001b[39m)  \u001b[38;5;66;03m# Users Data\u001b[39;00m\n",
      "\u001b[1;31mModuleNotFoundError\u001b[0m: No module named 'haversine'"
     ]
    }
   ],
   "source": [
    "\n"
   ]
  },
  {
   "cell_type": "code",
   "execution_count": null,
   "id": "ee3ba796-9dce-491a-9a27-6c6268bfc8c7",
   "metadata": {},
   "outputs": [
    {
     "name": "stdout",
     "output_type": "stream",
     "text": [
      "Requirement already satisfied: haversine in c:\\users\\anjal\\appdata\\local\\programs\\python\\python312\\lib\\site-packages (2.9.0)\n"
     ]
    },
    {
     "name": "stderr",
     "output_type": "stream",
     "text": [
      "\n",
      "[notice] A new release of pip is available: 24.3.1 -> 25.0.1\n",
      "[notice] To update, run: python.exe -m pip install --upgrade pip\n"
     ]
    }
   ],
   "source": [
    "\n"
   ]
  },
  {
   "cell_type": "code",
   "execution_count": 31,
   "id": "ed4e7793-c66f-40f9-910e-b2c436168bbf",
   "metadata": {},
   "outputs": [
    {
     "name": "stdout",
     "output_type": "stream",
     "text": [
      "✅ Data preprocessing completed successfully!\n"
     ]
    }
   ],
   "source": [
    "import numpy as np\n",
    "import pandas as pd\n",
    "import tensorflow as tf\n",
    "from tensorflow.keras.models import Model\n",
    "from tensorflow.keras.layers import Input, Embedding, Flatten, Dense, Concatenate, Dropout\n",
    "from tensorflow.keras.optimizers import Adam\n",
    "from sklearn.preprocessing import StandardScaler, LabelEncoder\n",
    "from sklearn.model_selection import train_test_split\n",
    "from haversine import haversine\n",
    "\n",
    "# Load preprocessed data\n",
    "users_df = pd.read_csv(\"data/preprocessed_users.csv\")\n",
    "mechanics_df = pd.read_csv(\"data/preprocessed_mechanics.csv\")\n",
    "transactions_df = pd.read_csv(\"data/preprocessed_service_requests.csv\")\n",
    "\n",
    "\n",
    "users_df[['lat', 'long']] = users_df[['lat', 'long']].astype(float)\n",
    "mechanics_df[['lat', 'long']] = mechanics_df[['lat', 'long']].astype(float)\n",
    "\n",
    "\n",
    "df = transactions_df.merge(users_df, on=\"user_id\").merge(mechanics_df, on=\"mechanic_id\", suffixes=(\"_user\", \"_mech\"))\n",
    "\n",
    "\n",
    "df['distance_km'] = df.apply(lambda row: haversine(\n",
    "    (row['lat_user'], row['long_user']),\n",
    "    (row['lat_mech'], row['long_mech'])\n",
    "), axis=1)\n",
    "\n",
    "\n",
    "user_encoder = LabelEncoder()\n",
    "mech_encoder = LabelEncoder()\n",
    "service_encoder = LabelEncoder()\n",
    "\n",
    "df['user_id_enc'] = user_encoder.fit_transform(df['user_id'])\n",
    "df['mechanic_id_enc'] = mech_encoder.fit_transform(df['mechanic_id'])\n",
    "df['service_type_enc'] = service_encoder.fit_transform(df['service_type'])\n",
    "\n",
    "\n",
    "scaler = StandardScaler()\n",
    "df[['distance_km', 'ratings', 'cost', 'experience_years', 'response_time']] = scaler.fit_transform(\n",
    "    df[['distance_km', 'ratings', 'cost', 'experience_years', 'response_time']]\n",
    ")\n",
    "\n",
    "train, test = train_test_split(df, test_size=0.2, random_state=42)\n",
    "\n",
    "print(\" Data preprocessing completed successfully!\")\n"
   ]
  },
  {
   "cell_type": "code",
   "execution_count": 33,
   "id": "9cf9b3ff-da23-49c4-aaae-79366a60909e",
   "metadata": {},
   "outputs": [],
   "source": [
    "\n",
    "user_input = Input(shape=(1,), name=\"user_input\")\n",
    "mech_input = Input(shape=(1,), name=\"mechanic_input\")\n",
    "service_input = Input(shape=(1,), name=\"service_input\")\n",
    "distance_input = Input(shape=(1,), name=\"distance_input\")\n",
    "ratings_input = Input(shape=(1,), name=\"ratings_input\")\n",
    "experience_input = Input(shape=(1,), name=\"experience_input\")\n",
    "cost_input = Input(shape=(1,), name=\"cost_input\")\n",
    "\n",
    "\n",
    "embedding_dim = 16\n",
    "user_embedding = Embedding(input_dim=len(user_encoder.classes_), output_dim=embedding_dim, name=\"user_embedding\")(user_input)\n",
    "mech_embedding = Embedding(input_dim=len(mech_encoder.classes_), output_dim=embedding_dim, name=\"mech_embedding\")(mech_input)\n",
    "\n",
    "user_vec = Flatten()(user_embedding)\n",
    "mech_vec = Flatten()(mech_embedding)\n",
    "\n",
    "\n",
    "concat_features = Concatenate()([user_vec, mech_vec, service_input, distance_input, ratings_input, experience_input, cost_input])\n",
    "\n",
    "\n",
    "x = Dense(128, activation=\"relu\")(concat_features)\n",
    "x = Dropout(0.2)(x)\n",
    "x = Dense(64, activation=\"relu\")(x)\n",
    "x = Dropout(0.2)(x)\n",
    "x = Dense(32, activation=\"relu\")(x)\n",
    "\n",
    "\n",
    "output = Dense(1, activation=\"sigmoid\", name=\"output\")(x)\n",
    "\n",
    "\n",
    "model = Model(inputs=[user_input, mech_input, service_input, distance_input, ratings_input, experience_input, cost_input], outputs=output)\n",
    "model.compile(optimizer=Adam(learning_rate=0.001), loss=\"binary_crossentropy\", metrics=[\"accuracy\"])\n",
    "\n",
    "\n",
    "\n"
   ]
  },
  {
   "cell_type": "code",
   "execution_count": 34,
   "id": "05e6e27a-a4c4-4e36-90f5-84ee102a1a83",
   "metadata": {},
   "outputs": [
    {
     "name": "stdout",
     "output_type": "stream",
     "text": [
      "Epoch 1/10\n",
      "\u001b[1m100/100\u001b[0m \u001b[32m━━━━━━━━━━━━━━━━━━━━\u001b[0m\u001b[37m\u001b[0m \u001b[1m15s\u001b[0m 35ms/step - accuracy: 0.9861 - loss: 0.1859 - val_accuracy: 1.0000 - val_loss: 0.0013\n",
      "Epoch 2/10\n",
      "\u001b[1m100/100\u001b[0m \u001b[32m━━━━━━━━━━━━━━━━━━━━\u001b[0m\u001b[37m\u001b[0m \u001b[1m1s\u001b[0m 11ms/step - accuracy: 1.0000 - loss: 8.2853e-04 - val_accuracy: 1.0000 - val_loss: 2.2175e-04\n",
      "Epoch 3/10\n",
      "\u001b[1m100/100\u001b[0m \u001b[32m━━━━━━━━━━━━━━━━━━━━\u001b[0m\u001b[37m\u001b[0m \u001b[1m1s\u001b[0m 11ms/step - accuracy: 1.0000 - loss: 1.5501e-04 - val_accuracy: 1.0000 - val_loss: 8.6359e-05\n",
      "Epoch 4/10\n",
      "\u001b[1m100/100\u001b[0m \u001b[32m━━━━━━━━━━━━━━━━━━━━\u001b[0m\u001b[37m\u001b[0m \u001b[1m2s\u001b[0m 12ms/step - accuracy: 1.0000 - loss: 9.7936e-05 - val_accuracy: 1.0000 - val_loss: 4.4858e-05\n",
      "Epoch 5/10\n",
      "\u001b[1m100/100\u001b[0m \u001b[32m━━━━━━━━━━━━━━━━━━━━\u001b[0m\u001b[37m\u001b[0m \u001b[1m2s\u001b[0m 18ms/step - accuracy: 1.0000 - loss: 4.1574e-05 - val_accuracy: 1.0000 - val_loss: 2.7648e-05\n",
      "Epoch 6/10\n",
      "\u001b[1m100/100\u001b[0m \u001b[32m━━━━━━━━━━━━━━━━━━━━\u001b[0m\u001b[37m\u001b[0m \u001b[1m1s\u001b[0m 13ms/step - accuracy: 1.0000 - loss: 3.0472e-05 - val_accuracy: 1.0000 - val_loss: 1.7305e-05\n",
      "Epoch 7/10\n",
      "\u001b[1m100/100\u001b[0m \u001b[32m━━━━━━━━━━━━━━━━━━━━\u001b[0m\u001b[37m\u001b[0m \u001b[1m1s\u001b[0m 11ms/step - accuracy: 1.0000 - loss: 1.6248e-05 - val_accuracy: 1.0000 - val_loss: 1.2344e-05\n",
      "Epoch 8/10\n",
      "\u001b[1m100/100\u001b[0m \u001b[32m━━━━━━━━━━━━━━━━━━━━\u001b[0m\u001b[37m\u001b[0m \u001b[1m2s\u001b[0m 13ms/step - accuracy: 1.0000 - loss: 1.1057e-05 - val_accuracy: 1.0000 - val_loss: 8.9085e-06\n",
      "Epoch 9/10\n",
      "\u001b[1m100/100\u001b[0m \u001b[32m━━━━━━━━━━━━━━━━━━━━\u001b[0m\u001b[37m\u001b[0m \u001b[1m1s\u001b[0m 12ms/step - accuracy: 1.0000 - loss: 9.9841e-06 - val_accuracy: 1.0000 - val_loss: 6.6211e-06\n",
      "Epoch 10/10\n",
      "\u001b[1m100/100\u001b[0m \u001b[32m━━━━━━━━━━━━━━━━━━━━\u001b[0m\u001b[37m\u001b[0m \u001b[1m2s\u001b[0m 14ms/step - accuracy: 1.0000 - loss: 7.5114e-06 - val_accuracy: 1.0000 - val_loss: 4.8236e-06\n",
      "✅ Model training completed successfully!\n"
     ]
    }
   ],
   "source": [
    "\n",
    "X_train = [\n",
    "    train['user_id_enc'].values,\n",
    "    train['mechanic_id_enc'].values,\n",
    "    train['service_type_enc'].values,\n",
    "    train['distance_km'].values,\n",
    "    train['ratings'].values,\n",
    "    train['experience_years'].values,\n",
    "    train['cost'].values\n",
    "]\n",
    "\n",
    "y_train = (train['user_feedback'] >= 3).astype(int)  \n",
    "\n",
    "model.fit(X_train, y_train, epochs=10, batch_size=32, validation_split=0.2)\n",
    "\n",
    "print(\" Model training completed successfully!\")\n"
   ]
  },
  {
   "cell_type": "code",
   "execution_count": 39,
   "id": "5b724833-18dd-4e01-bdaa-aed03936fbcb",
   "metadata": {},
   "outputs": [
    {
     "name": "stdout",
     "output_type": "stream",
     "text": [
      "object\n"
     ]
    },
    {
     "ename": "KeyError",
     "evalue": "'mechanic_id'",
     "output_type": "error",
     "traceback": [
      "\u001b[1;31m---------------------\u001b[0m",
      "\u001b[1;31mKeyError\u001b[0mTraceback (most recent call last)",
      "File \u001b[1;32m~\\AppData\\Local\\Programs\\Python\\Python312\\Lib\\site-packages\\pandas\\core\\indexes\\base.py:3805\u001b[0m, in \u001b[0;36mIndex.get_loc\u001b[1;34m(self, key)\u001b[0m\n\u001b[0;32m   3804\u001b[0m \u001b[38;5;28;01mtry\u001b[39;00m:\n\u001b[1;32m-> 3805\u001b[0m     \u001b[38;5;28;01mreturn\u001b[39;00m \u001b[38;5;28;43mself\u001b[39;49m\u001b[38;5;241;43m.\u001b[39;49m\u001b[43m_engine\u001b[49m\u001b[38;5;241;43m.\u001b[39;49m\u001b[43mget_loc\u001b[49m\u001b[43m(\u001b[49m\u001b[43mcasted_key\u001b[49m\u001b[43m)\u001b[49m\n\u001b[0;32m   3806\u001b[0m \u001b[38;5;28;01mexcept\u001b[39;00m \u001b[38;5;167;01mKeyError\u001b[39;00m \u001b[38;5;28;01mas\u001b[39;00m err:\n",
      "File \u001b[1;32mindex.pyx:167\u001b[0m, in \u001b[0;36mpandas._libs.index.IndexEngine.get_loc\u001b[1;34m()\u001b[0m\n",
      "File \u001b[1;32mindex.pyx:196\u001b[0m, in \u001b[0;36mpandas._libs.index.IndexEngine.get_loc\u001b[1;34m()\u001b[0m\n",
      "File \u001b[1;32mpandas\\\\_libs\\\\hashtable_class_helper.pxi:7081\u001b[0m, in \u001b[0;36mpandas._libs.hashtable.PyObjectHashTable.get_item\u001b[1;34m()\u001b[0m\n",
      "File \u001b[1;32mpandas\\\\_libs\\\\hashtable_class_helper.pxi:7089\u001b[0m, in \u001b[0;36mpandas._libs.hashtable.PyObjectHashTable.get_item\u001b[1;34m()\u001b[0m\n",
      "\u001b[1;31mKeyError\u001b[0m: 'mechanic_id'",
      "\nThe above exception was the direct cause of the following exception:\n",
      "\u001b[1;31mKeyError\u001b[0mTraceback (most recent call last)",
      "Cell \u001b[1;32mIn[39], line 47\u001b[0m\n\u001b[0;32m     44\u001b[0m     \u001b[38;5;28;01mreturn\u001b[39;00m top_mechanics[[\u001b[38;5;124m'\u001b[39m\u001b[38;5;124mmechanic_id\u001b[39m\u001b[38;5;124m'\u001b[39m, \u001b[38;5;124m'\u001b[39m\u001b[38;5;124mname\u001b[39m\u001b[38;5;124m'\u001b[39m, \u001b[38;5;124m'\u001b[39m\u001b[38;5;124mservice_types\u001b[39m\u001b[38;5;124m'\u001b[39m, \u001b[38;5;124m'\u001b[39m\u001b[38;5;124mratings\u001b[39m\u001b[38;5;124m'\u001b[39m, \u001b[38;5;124m'\u001b[39m\u001b[38;5;124mdistance_km\u001b[39m\u001b[38;5;124m'\u001b[39m, \u001b[38;5;124m'\u001b[39m\u001b[38;5;124mrecommendation_score\u001b[39m\u001b[38;5;124m'\u001b[39m, \u001b[38;5;124m'\u001b[39m\u001b[38;5;124muser_rated\u001b[39m\u001b[38;5;124m'\u001b[39m]]\n\u001b[0;32m     46\u001b[0m \u001b[38;5;66;03m# Example: Recommend a mechanic for user 'user_0' who needs 'Oil Change'\u001b[39;00m\n\u001b[1;32m---> 47\u001b[0m recommended_mechanics \u001b[38;5;241m=\u001b[39m \u001b[43mrecommend_mechanics\u001b[49m\u001b[43m(\u001b[49m\u001b[38;5;124;43m\"\u001b[39;49m\u001b[38;5;124;43muser_0\u001b[39;49m\u001b[38;5;124;43m\"\u001b[39;49m\u001b[43m,\u001b[49m\u001b[43m \u001b[49m\u001b[38;5;124;43m\"\u001b[39;49m\u001b[38;5;124;43mOil Change\u001b[39;49m\u001b[38;5;124;43m\"\u001b[39;49m\u001b[43m)\u001b[49m\n\u001b[0;32m     48\u001b[0m \u001b[38;5;28mprint\u001b[39m(recommended_mechanics)\n",
      "Cell \u001b[1;32mIn[39], line 10\u001b[0m, in \u001b[0;36mrecommend_mechanics\u001b[1;34m(user_id, service_type)\u001b[0m\n\u001b[0;32m      7\u001b[0m     \u001b[38;5;28;01mreturn\u001b[39;00m \u001b[38;5;124m\"\u001b[39m\u001b[38;5;124mUser not found!\u001b[39m\u001b[38;5;124m\"\u001b[39m\n\u001b[0;32m      9\u001b[0m user_lat, user_long \u001b[38;5;241m=\u001b[39m user\u001b[38;5;241m.\u001b[39miloc[\u001b[38;5;241m0\u001b[39m][\u001b[38;5;124m'\u001b[39m\u001b[38;5;124mlat\u001b[39m\u001b[38;5;124m'\u001b[39m], user\u001b[38;5;241m.\u001b[39miloc[\u001b[38;5;241m0\u001b[39m][\u001b[38;5;124m'\u001b[39m\u001b[38;5;124mlong\u001b[39m\u001b[38;5;124m'\u001b[39m]\n\u001b[1;32m---> 10\u001b[0m user_mechanics \u001b[38;5;241m=\u001b[39m \u001b[38;5;28meval\u001b[39m(\u001b[43muser\u001b[49m\u001b[38;5;241;43m.\u001b[39;49m\u001b[43miloc\u001b[49m\u001b[43m[\u001b[49m\u001b[38;5;241;43m0\u001b[39;49m\u001b[43m]\u001b[49m\u001b[43m[\u001b[49m\u001b[38;5;124;43m'\u001b[39;49m\u001b[38;5;124;43mmechanic_id\u001b[39;49m\u001b[38;5;124;43m'\u001b[39;49m\u001b[43m]\u001b[49m)  \u001b[38;5;66;03m# Parse mechanic IDs from the string\u001b[39;00m\n\u001b[0;32m     12\u001b[0m \u001b[38;5;66;03m# Find nearby mechanics\u001b[39;00m\n\u001b[0;32m     13\u001b[0m mechanics_df[\u001b[38;5;124m'\u001b[39m\u001b[38;5;124mdistance_km\u001b[39m\u001b[38;5;124m'\u001b[39m] \u001b[38;5;241m=\u001b[39m mechanics_df\u001b[38;5;241m.\u001b[39mapply(\u001b[38;5;28;01mlambda\u001b[39;00m row: haversine(\n\u001b[0;32m     14\u001b[0m     (user_lat, user_long), (row[\u001b[38;5;124m'\u001b[39m\u001b[38;5;124mlat\u001b[39m\u001b[38;5;124m'\u001b[39m], row[\u001b[38;5;124m'\u001b[39m\u001b[38;5;124mlong\u001b[39m\u001b[38;5;124m'\u001b[39m])\n\u001b[0;32m     15\u001b[0m ), axis\u001b[38;5;241m=\u001b[39m\u001b[38;5;241m1\u001b[39m)\n",
      "File \u001b[1;32m~\\AppData\\Local\\Programs\\Python\\Python312\\Lib\\site-packages\\pandas\\core\\series.py:1121\u001b[0m, in \u001b[0;36mSeries.__getitem__\u001b[1;34m(self, key)\u001b[0m\n\u001b[0;32m   1118\u001b[0m     \u001b[38;5;28;01mreturn\u001b[39;00m \u001b[38;5;28mself\u001b[39m\u001b[38;5;241m.\u001b[39m_values[key]\n\u001b[0;32m   1120\u001b[0m \u001b[38;5;28;01melif\u001b[39;00m key_is_scalar:\n\u001b[1;32m-> 1121\u001b[0m     \u001b[38;5;28;01mreturn\u001b[39;00m \u001b[38;5;28;43mself\u001b[39;49m\u001b[38;5;241;43m.\u001b[39;49m\u001b[43m_get_value\u001b[49m\u001b[43m(\u001b[49m\u001b[43mkey\u001b[49m\u001b[43m)\u001b[49m\n\u001b[0;32m   1123\u001b[0m \u001b[38;5;66;03m# Convert generator to list before going through hashable part\u001b[39;00m\n\u001b[0;32m   1124\u001b[0m \u001b[38;5;66;03m# (We will iterate through the generator there to check for slices)\u001b[39;00m\n\u001b[0;32m   1125\u001b[0m \u001b[38;5;28;01mif\u001b[39;00m is_iterator(key):\n",
      "File \u001b[1;32m~\\AppData\\Local\\Programs\\Python\\Python312\\Lib\\site-packages\\pandas\\core\\series.py:1237\u001b[0m, in \u001b[0;36mSeries._get_value\u001b[1;34m(self, label, takeable)\u001b[0m\n\u001b[0;32m   1234\u001b[0m     \u001b[38;5;28;01mreturn\u001b[39;00m \u001b[38;5;28mself\u001b[39m\u001b[38;5;241m.\u001b[39m_values[label]\n\u001b[0;32m   1236\u001b[0m \u001b[38;5;66;03m# Similar to Index.get_value, but we do not fall back to positional\u001b[39;00m\n\u001b[1;32m-> 1237\u001b[0m loc \u001b[38;5;241m=\u001b[39m \u001b[38;5;28;43mself\u001b[39;49m\u001b[38;5;241;43m.\u001b[39;49m\u001b[43mindex\u001b[49m\u001b[38;5;241;43m.\u001b[39;49m\u001b[43mget_loc\u001b[49m\u001b[43m(\u001b[49m\u001b[43mlabel\u001b[49m\u001b[43m)\u001b[49m\n\u001b[0;32m   1239\u001b[0m \u001b[38;5;28;01mif\u001b[39;00m is_integer(loc):\n\u001b[0;32m   1240\u001b[0m     \u001b[38;5;28;01mreturn\u001b[39;00m \u001b[38;5;28mself\u001b[39m\u001b[38;5;241m.\u001b[39m_values[loc]\n",
      "File \u001b[1;32m~\\AppData\\Local\\Programs\\Python\\Python312\\Lib\\site-packages\\pandas\\core\\indexes\\base.py:3812\u001b[0m, in \u001b[0;36mIndex.get_loc\u001b[1;34m(self, key)\u001b[0m\n\u001b[0;32m   3807\u001b[0m     \u001b[38;5;28;01mif\u001b[39;00m \u001b[38;5;28misinstance\u001b[39m(casted_key, \u001b[38;5;28mslice\u001b[39m) \u001b[38;5;129;01mor\u001b[39;00m (\n\u001b[0;32m   3808\u001b[0m         \u001b[38;5;28misinstance\u001b[39m(casted_key, abc\u001b[38;5;241m.\u001b[39mIterable)\n\u001b[0;32m   3809\u001b[0m         \u001b[38;5;129;01mand\u001b[39;00m \u001b[38;5;28many\u001b[39m(\u001b[38;5;28misinstance\u001b[39m(x, \u001b[38;5;28mslice\u001b[39m) \u001b[38;5;28;01mfor\u001b[39;00m x \u001b[38;5;129;01min\u001b[39;00m casted_key)\n\u001b[0;32m   3810\u001b[0m     ):\n\u001b[0;32m   3811\u001b[0m         \u001b[38;5;28;01mraise\u001b[39;00m InvalidIndexError(key)\n\u001b[1;32m-> 3812\u001b[0m     \u001b[38;5;28;01mraise\u001b[39;00m \u001b[38;5;167;01mKeyError\u001b[39;00m(key) \u001b[38;5;28;01mfrom\u001b[39;00m \u001b[38;5;21;01merr\u001b[39;00m\n\u001b[0;32m   3813\u001b[0m \u001b[38;5;28;01mexcept\u001b[39;00m \u001b[38;5;167;01mTypeError\u001b[39;00m:\n\u001b[0;32m   3814\u001b[0m     \u001b[38;5;66;03m# If we have a listlike key, _check_indexing_error will raise\u001b[39;00m\n\u001b[0;32m   3815\u001b[0m     \u001b[38;5;66;03m#  InvalidIndexError. Otherwise we fall through and re-raise\u001b[39;00m\n\u001b[0;32m   3816\u001b[0m     \u001b[38;5;66;03m#  the TypeError.\u001b[39;00m\n\u001b[0;32m   3817\u001b[0m     \u001b[38;5;28mself\u001b[39m\u001b[38;5;241m.\u001b[39m_check_indexing_error(key)\n",
      "\u001b[1;31mKeyError\u001b[0m: 'mechanic_id'"
     ]
    }
   ],
   "source": [
    "def recommend_mechanics(user_id, service_type):\n",
    "  \n",
    "    user = users_df[users_df['user_id'] == user_id]\n",
    "    print(users_df['user_id'].dtype)  \n",
    "    if user.empty:\n",
    "        return \"User not found!\"\n",
    "\n",
    "    user_lat, user_long = user.iloc[0]['lat'], user.iloc[0]['long']\n",
    "    user_mechanics = eval(user.iloc[0]['mechanic_id'])  \n",
    "\n",
    "    mechanics_df['distance_km'] = mechanics_df.apply(lambda row: haversine(\n",
    "        (user_lat, user_long), (row['lat'], row['long'])\n",
    "    ), axis=1)\n",
    "\n",
    " \n",
    "    available_mechanics = mechanics_df[mechanics_df['service_types'].apply(lambda x: service_type in eval(x))]\n",
    "    \n",
    "    if available_mechanics.empty:\n",
    "        return \"No mechanics available for this service!\"\n",
    "\n",
    "\n",
    "    X_recommend = [\n",
    "        np.array([user_encoder.transform([user_id])]*len(available_mechanics)),  # User IDs\n",
    "        mech_encoder.transform(available_mechanics['mechanic_id']),  # Mechanic IDs\n",
    "        service_encoder.transform([service_type]*len(available_mechanics)),  # Service Type\n",
    "        available_mechanics['distance_km'].values,\n",
    "        available_mechanics['ratings'].values,\n",
    "        available_mechanics['experience_years'].values,\n",
    "        available_mechanics['response_time'].values\n",
    "    ]\n",
    "\n",
    "    scores = model.predict(X_recommend).flatten()\n",
    "\n",
    "  \n",
    "    available_mechanics['recommendation_score'] = scores\n",
    "    top_mechanics = available_mechanics.sort_values(by='recommendation_score', ascending=False).head(5)\n",
    "\n",
    "  \n",
    "    top_mechanics['user_rated'] = top_mechanics['mechanic_id'].apply(lambda x: x in user_mechanics)\n",
    "\n",
    "    return top_mechanics[['mechanic_id', 'name', 'service_types', 'ratings', 'distance_km', 'recommendation_score', 'user_rated']]\n",
    "\n",
    "recommended_mechanics = recommend_mechanics(\"user_0\", \"Oil Change\")\n",
    "print(recommended_mechanics)\n"
   ]
  },
  {
   "cell_type": "code",
   "execution_count": 46,
   "id": "70db34ec-b503-4314-a142-30a9c7dc08a4",
   "metadata": {},
   "outputs": [
    {
     "name": "stdout",
     "output_type": "stream",
     "text": [
      "\u001b[1m5/5\u001b[0m \u001b[32m━━━━━━━━━━━━━━━━━━━━\u001b[0m\u001b[37m\u001b[0m \u001b[1m0s\u001b[0m 7ms/step  \n",
      "    mechanic_id                 name  \\\n",
      "1        mech_1  Christina Rodriguez   \n",
      "328    mech_328         Ariel Dunlap   \n",
      "311    mech_311          Lauren Cook   \n",
      "315    mech_315      Michelle Duncan   \n",
      "316    mech_316         Jeffrey Snow   \n",
      "\n",
      "                                         service_types  ratings  distance_km  \\\n",
      "1    ['Oil Change', 'Tire Replacement', 'Transmissi...      4.7    26.937274   \n",
      "328  ['Oil Change', 'General Service', 'Engine Repa...      3.7    49.787001   \n",
      "311  ['Oil Change', 'Transmission Repair', 'Battery...      3.1    70.836107   \n",
      "315  ['Suspension Fix', 'Brake Repair', 'Transmissi...      3.2    37.824340   \n",
      "316  ['AC Service', 'Transmission Repair', 'Wheel A...      4.1    24.939018   \n",
      "\n",
      "     recommendation_score  user_interacted  preferred_mechanic  \n",
      "1                     1.0            False               False  \n",
      "328                   1.0            False               False  \n",
      "311                   1.0            False               False  \n",
      "315                   1.0            False               False  \n",
      "316                   1.0            False               False  \n"
     ]
    }
   ],
   "source": [
    "import pandas as pd\n",
    "import numpy as np\n",
    "from ast import literal_eval\n",
    "\n",
    "def recommend_mechanics(user_id, service_type):\n",
    "  \n",
    "    user = users_df[users_df['user_id'] == user_id]\n",
    "    \n",
    "  \n",
    "    if user.empty:\n",
    "        return \"User not found!\"\n",
    "    \n",
    "   \n",
    "    user_lat, user_long = user.iloc[0]['lat'], user.iloc[0]['long']\n",
    "\n",
    "    preferred_mechanics = literal_eval(user.iloc[0]['preferred_mechanics'])  # Convert string to list\n",
    "\n",
    "   \n",
    "    past_services = literal_eval(user.iloc[0]['past_service_history'])  # Convert string to list of dicts\n",
    "    past_mechanics = [service['mechanic_id'] for service in past_services]  # List of mechanic_ids user interacted with\n",
    "\n",
    "\n",
    "    mechanics_df['distance_km'] = mechanics_df.apply(lambda row: haversine(\n",
    "        (user_lat, user_long), (row['lat'], row['long'])\n",
    "    ), axis=1)\n",
    "\n",
    "   \n",
    "    available_mechanics = mechanics_df[mechanics_df['service_types'].apply(lambda x: service_type in eval(x))]\n",
    "    \n",
    "    if available_mechanics.empty:\n",
    "        return \"No mechanics available for this service!\"\n",
    "\n",
    "    \n",
    "    X_recommend = [\n",
    "        np.array([user_encoder.transform([user_id])]*len(available_mechanics)),  # User IDs\n",
    "        mech_encoder.transform(available_mechanics['mechanic_id']),  # Mechanic IDs\n",
    "        service_encoder.transform([service_type]*len(available_mechanics)),  # Service Type\n",
    "        available_mechanics['distance_km'].values,\n",
    "        available_mechanics['ratings'].values,\n",
    "        available_mechanics['experience_years'].values,\n",
    "        available_mechanics['response_time'].values\n",
    "    ]\n",
    "\n",
    " \n",
    "    scores = model.predict(X_recommend).flatten()\n",
    "\n",
    "    \n",
    "    available_mechanics = available_mechanics.copy()\n",
    "    \n",
    "    available_mechanics.loc[:, 'recommendation_score'] = scores\n",
    "    available_mechanics.loc[:, 'user_interacted'] = available_mechanics['mechanic_id'].apply(lambda x: x in past_mechanics)\n",
    "    available_mechanics.loc[:, 'preferred_mechanic'] = available_mechanics['mechanic_id'].apply(lambda x: x in preferred_mechanics)\n",
    "\n",
    "    top_mechanics = available_mechanics.sort_values(by='recommendation_score', ascending=False).head(5)\n",
    "\n",
    "  \n",
    "    top_mechanics['user_interacted'] = top_mechanics['mechanic_id'].apply(lambda x: x in past_mechanics)\n",
    "\n",
    "   \n",
    "    top_mechanics['preferred_mechanic'] = top_mechanics['mechanic_id'].apply(lambda x: x in preferred_mechanics)\n",
    "\n",
    "   \n",
    "    return top_mechanics[['mechanic_id', 'name', 'service_types', 'ratings', 'distance_km', 'recommendation_score', 'user_interacted', 'preferred_mechanic']]\n",
    "\n",
    "\n",
    "recommended_mechanics = recommend_mechanics(\"user_0\", \"Oil Change\")\n",
    "print(recommended_mechanics)\n"
   ]
  },
  {
   "cell_type": "code",
   "execution_count": 47,
   "id": "502ab10e-3284-4bfc-a722-893ea9e03ac5",
   "metadata": {},
   "outputs": [
    {
     "data": {
      "text/plain": [
       "['ml_model/mechanic_recommendation_model.pkl']"
      ]
     },
     "execution_count": 47,
     "metadata": {},
     "output_type": "execute_result"
    }
   ],
   "source": [
    "import joblib\n",
    "\n",
    "# Save the trained model\n",
    "joblib.dump(model, 'ml_model/mechanic_recommendation_model.pkl')\n"
   ]
  },
  {
   "cell_type": "code",
   "execution_count": 48,
   "id": "ddc12824-5a61-4d52-a472-07ffbd3d93dd",
   "metadata": {},
   "outputs": [
    {
     "name": "stdout",
     "output_type": "stream",
     "text": [
      " * Serving Flask app '__main__'\n",
      " * Debug mode: on\n"
     ]
    },
    {
     "name": "stderr",
     "output_type": "stream",
     "text": [
      "WARNING: This is a development server. Do not use it in a production deployment. Use a production WSGI server instead.\n",
      " * Running on http://127.0.0.1:5000\n",
      "Press CTRL+C to quit\n",
      " * Restarting with stat\n"
     ]
    },
    {
     "ename": "SystemExit",
     "evalue": "1",
     "output_type": "error",
     "traceback": [
      "An exception has occurred, use %tb to see the full traceback.\n",
      "\u001b[1;31mSystemExit\u001b[0m\u001b[1;31m:\u001b[0m 1\n"
     ]
    },
    {
     "name": "stderr",
     "output_type": "stream",
     "text": [
      "C:\\Users\\anjal\\AppData\\Local\\Programs\\Python\\Python312\\Lib\\site-packages\\IPython\\core\\interactiveshell.py:3585: UserWarning: To exit: use 'exit', 'quit', or Ctrl-D.\n",
      "  warn(\"To exit: use 'exit', 'quit', or Ctrl-D.\", stacklevel=1)\n"
     ]
    }
   ],
   "source": [
    "from flask import Flask, request, jsonify\n",
    "import joblib\n",
    "import pandas as pd\n",
    "\n",
    "# Initialize Flask app\n",
    "app = Flask(__name__)\n",
    "\n",
    "# Load the trained model\n",
    "model = joblib.load('ml_model/mechanic_recommendation_model.pkl')\n",
    "\n",
    "# Sample mechanics dataframe for demo (replace with your actual data)\n",
    "mechanics_df = pd.DataFrame({\n",
    "    'mechanic_id': ['mech_1', 'mech_328', 'mech_311', 'mech_315', 'mech_316'],\n",
    "    'name': ['Christina Rodriguez', 'Ariel Dunlap', 'Lauren Cook', 'Michelle Duncan', 'Jeffrey Snow'],\n",
    "    'service_types': [['Oil Change', 'Tire Replacement'], ['Oil Change', 'Engine Repair'], ['Suspension Fix'], ['Brake Repair'], ['AC Service']],\n",
    "    'ratings': [4.7, 3.7, 3.1, 3.2, 4.1],\n",
    "    'distance_km': [26.9, 49.8, 70.8, 37.8, 24.9]\n",
    "})\n",
    "\n",
    "# Define prediction function (you can use your actual logic here)\n",
    "def recommend_mechanics(user_data, service_type):\n",
    "    # Simulate a recommendation logic\n",
    "    recommended_mechanics = mechanics_df[mechanics_df['service_types'].apply(lambda x: service_type in x)]\n",
    "    recommended_mechanics['recommendation_score'] = recommended_mechanics['ratings'] / (recommended_mechanics['distance_km'] + 1)\n",
    "    return recommended_mechanics[['mechanic_id', 'name', 'recommendation_score']]\n",
    "\n",
    "# Define the API endpoint for prediction\n",
    "@app.route('/recommend_mechanics', methods=['POST'])\n",
    "def get_recommendations():\n",
    "    try:\n",
    "        data = request.get_json()\n",
    "        user_data = data['user_data']  # Example user data\n",
    "        service_type = data['service_type']\n",
    "        \n",
    "        # Get predictions based on user data and service type\n",
    "        recommendations = recommend_mechanics(user_data, service_type)\n",
    "        \n",
    "        return jsonify(recommendations.to_dict(orient='records'))\n",
    "    \n",
    "    except Exception as e:\n",
    "        return jsonify({'error': str(e)}), 400\n",
    "\n",
    "if __name__ == '__main__':\n",
    "    app.run(debug=True)\n"
   ]
  },
  {
   "cell_type": "code",
   "execution_count": null,
   "id": "44fdf466-a56d-4028-b37e-92a7ec23204f",
   "metadata": {},
   "outputs": [],
   "source": []
  }
 ],
 "metadata": {
  "kernelspec": {
   "display_name": "Python 3 (ipykernel)",
   "language": "python",
   "name": "python3"
  },
  "language_info": {
   "codemirror_mode": {
    "name": "ipython",
    "version": 3
   },
   "file_extension": ".py",
   "mimetype": "text/x-python",
   "name": "python",
   "nbconvert_exporter": "python",
   "pygments_lexer": "ipython3",
   "version": "3.12.3"
  }
 },
 "nbformat": 4,
 "nbformat_minor": 5
}
